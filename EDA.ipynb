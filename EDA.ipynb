{
 "cells": [
  {
   "cell_type": "markdown",
   "id": "e81b084a-ea7d-4c3c-8eac-2e94ec31fa20",
   "metadata": {},
   "source": [
    "# Exploratory Data Analysis\n",
    "\n",
    "- I will be using `ydata-profiling` for rapidly having access to complete statistical data exploration.\n",
    "- First, we can look at the current project folder structure."
   ]
  },
  {
   "cell_type": "code",
   "execution_count": 4,
   "id": "1fbf2a4d-2773-4400-a9b5-8b903babcab7",
   "metadata": {},
   "outputs": [
    {
     "name": "stdout",
     "output_type": "stream",
     "text": [
      "\u001b[01;34m.\u001b[0m\n",
      "├── \u001b[01;34martifacts\u001b[0m\n",
      "├── CODEOWNERS\n",
      "├── \u001b[01;34mcontainer\u001b[0m\n",
      "│   ├── \u001b[01;34mapp\u001b[0m\n",
      "│   │   └── main.py\n",
      "│   ├── Dockerfile\n",
      "│   └── requirements.txt\n",
      "├── \u001b[01;34mdata\u001b[0m\n",
      "│   └── census.csv\n",
      "├── EDA.ipynb\n",
      "├── LICENSE.txt\n",
      "├── model_card_template.md\n",
      "├── README.md\n",
      "├── requirements.txt\n",
      "├── \u001b[01;34mscreenshots\u001b[0m\n",
      "├── setup.py\n",
      "├── \u001b[01;34msrc\u001b[0m\n",
      "│   ├── __init__.py\n",
      "│   ├── \u001b[01;34mml\u001b[0m\n",
      "│   │   ├── data.py\n",
      "│   │   ├── __init__.py\n",
      "│   │   └── model.py\n",
      "│   └── train_model.py\n",
      "└── \u001b[01;34mtests\u001b[0m\n",
      "    ├── README.md\n",
      "    ├── sanitycheck.py\n",
      "    ├── test_api.py\n",
      "    └── test_model.py\n",
      "\n",
      "9 directories, 20 files\n"
     ]
    }
   ],
   "source": [
    "!tree"
   ]
  },
  {
   "cell_type": "markdown",
   "id": "0d5d67f9-8d1b-4e0f-811f-30fcf036169b",
   "metadata": {},
   "source": [
    "- Read data\n",
    "- Instantiate data inside a Pandas dataframe\n",
    "- `ydata-profiling` for exporting statistical analysis in `html` format."
   ]
  },
  {
   "cell_type": "code",
   "execution_count": 6,
   "id": "450e9023-91b8-47ae-aec2-df4061aba5ba",
   "metadata": {},
   "outputs": [
    {
     "data": {
      "text/html": [
       "<div>\n",
       "<style scoped>\n",
       "    .dataframe tbody tr th:only-of-type {\n",
       "        vertical-align: middle;\n",
       "    }\n",
       "\n",
       "    .dataframe tbody tr th {\n",
       "        vertical-align: top;\n",
       "    }\n",
       "\n",
       "    .dataframe thead th {\n",
       "        text-align: right;\n",
       "    }\n",
       "</style>\n",
       "<table border=\"1\" class=\"dataframe\">\n",
       "  <thead>\n",
       "    <tr style=\"text-align: right;\">\n",
       "      <th></th>\n",
       "      <th>age</th>\n",
       "      <th>workclass</th>\n",
       "      <th>fnlgt</th>\n",
       "      <th>education</th>\n",
       "      <th>education-num</th>\n",
       "      <th>marital-status</th>\n",
       "      <th>occupation</th>\n",
       "      <th>relationship</th>\n",
       "      <th>race</th>\n",
       "      <th>sex</th>\n",
       "      <th>capital-gain</th>\n",
       "      <th>capital-loss</th>\n",
       "      <th>hours-per-week</th>\n",
       "      <th>native-country</th>\n",
       "      <th>salary</th>\n",
       "    </tr>\n",
       "  </thead>\n",
       "  <tbody>\n",
       "    <tr>\n",
       "      <th>0</th>\n",
       "      <td>39</td>\n",
       "      <td>State-gov</td>\n",
       "      <td>77516</td>\n",
       "      <td>Bachelors</td>\n",
       "      <td>13</td>\n",
       "      <td>Never-married</td>\n",
       "      <td>Adm-clerical</td>\n",
       "      <td>Not-in-family</td>\n",
       "      <td>White</td>\n",
       "      <td>Male</td>\n",
       "      <td>2174</td>\n",
       "      <td>0</td>\n",
       "      <td>40</td>\n",
       "      <td>United-States</td>\n",
       "      <td>&lt;=50K</td>\n",
       "    </tr>\n",
       "    <tr>\n",
       "      <th>1</th>\n",
       "      <td>50</td>\n",
       "      <td>Self-emp-not-inc</td>\n",
       "      <td>83311</td>\n",
       "      <td>Bachelors</td>\n",
       "      <td>13</td>\n",
       "      <td>Married-civ-spouse</td>\n",
       "      <td>Exec-managerial</td>\n",
       "      <td>Husband</td>\n",
       "      <td>White</td>\n",
       "      <td>Male</td>\n",
       "      <td>0</td>\n",
       "      <td>0</td>\n",
       "      <td>13</td>\n",
       "      <td>United-States</td>\n",
       "      <td>&lt;=50K</td>\n",
       "    </tr>\n",
       "    <tr>\n",
       "      <th>2</th>\n",
       "      <td>38</td>\n",
       "      <td>Private</td>\n",
       "      <td>215646</td>\n",
       "      <td>HS-grad</td>\n",
       "      <td>9</td>\n",
       "      <td>Divorced</td>\n",
       "      <td>Handlers-cleaners</td>\n",
       "      <td>Not-in-family</td>\n",
       "      <td>White</td>\n",
       "      <td>Male</td>\n",
       "      <td>0</td>\n",
       "      <td>0</td>\n",
       "      <td>40</td>\n",
       "      <td>United-States</td>\n",
       "      <td>&lt;=50K</td>\n",
       "    </tr>\n",
       "    <tr>\n",
       "      <th>3</th>\n",
       "      <td>53</td>\n",
       "      <td>Private</td>\n",
       "      <td>234721</td>\n",
       "      <td>11th</td>\n",
       "      <td>7</td>\n",
       "      <td>Married-civ-spouse</td>\n",
       "      <td>Handlers-cleaners</td>\n",
       "      <td>Husband</td>\n",
       "      <td>Black</td>\n",
       "      <td>Male</td>\n",
       "      <td>0</td>\n",
       "      <td>0</td>\n",
       "      <td>40</td>\n",
       "      <td>United-States</td>\n",
       "      <td>&lt;=50K</td>\n",
       "    </tr>\n",
       "    <tr>\n",
       "      <th>4</th>\n",
       "      <td>28</td>\n",
       "      <td>Private</td>\n",
       "      <td>338409</td>\n",
       "      <td>Bachelors</td>\n",
       "      <td>13</td>\n",
       "      <td>Married-civ-spouse</td>\n",
       "      <td>Prof-specialty</td>\n",
       "      <td>Wife</td>\n",
       "      <td>Black</td>\n",
       "      <td>Female</td>\n",
       "      <td>0</td>\n",
       "      <td>0</td>\n",
       "      <td>40</td>\n",
       "      <td>Cuba</td>\n",
       "      <td>&lt;=50K</td>\n",
       "    </tr>\n",
       "  </tbody>\n",
       "</table>\n",
       "</div>"
      ],
      "text/plain": [
       "   age          workclass   fnlgt   education   education-num  \\\n",
       "0   39          State-gov   77516   Bachelors              13   \n",
       "1   50   Self-emp-not-inc   83311   Bachelors              13   \n",
       "2   38            Private  215646     HS-grad               9   \n",
       "3   53            Private  234721        11th               7   \n",
       "4   28            Private  338409   Bachelors              13   \n",
       "\n",
       "        marital-status          occupation    relationship    race      sex  \\\n",
       "0        Never-married        Adm-clerical   Not-in-family   White     Male   \n",
       "1   Married-civ-spouse     Exec-managerial         Husband   White     Male   \n",
       "2             Divorced   Handlers-cleaners   Not-in-family   White     Male   \n",
       "3   Married-civ-spouse   Handlers-cleaners         Husband   Black     Male   \n",
       "4   Married-civ-spouse      Prof-specialty            Wife   Black   Female   \n",
       "\n",
       "    capital-gain   capital-loss   hours-per-week  native-country  salary  \n",
       "0           2174              0               40   United-States   <=50K  \n",
       "1              0              0               13   United-States   <=50K  \n",
       "2              0              0               40   United-States   <=50K  \n",
       "3              0              0               40   United-States   <=50K  \n",
       "4              0              0               40            Cuba   <=50K  "
      ]
     },
     "execution_count": 6,
     "metadata": {},
     "output_type": "execute_result"
    }
   ],
   "source": [
    "import os\n",
    "import pandas as pd\n",
    "from ydata_profiling import ProfileReport\n",
    "\n",
    "# Read data \n",
    "data_path = os.path.join(os.path.dirname(\"__file__\"), \"data\", \"census.csv\")\n",
    "df = pd.read_csv(data_path)\n",
    "\n",
    "df.head()"
   ]
  },
  {
   "cell_type": "code",
   "execution_count": 7,
   "id": "55786aef-e7ea-4dfc-836d-3bff4d579fbd",
   "metadata": {},
   "outputs": [
    {
     "data": {
      "application/vnd.jupyter.widget-view+json": {
       "model_id": "2189d273709e423eadcedaf3eaf768ec",
       "version_major": 2,
       "version_minor": 0
      },
      "text/plain": [
       "Summarize dataset:   0%|          | 0/5 [00:00<?, ?it/s]"
      ]
     },
     "metadata": {},
     "output_type": "display_data"
    },
    {
     "name": "stderr",
     "output_type": "stream",
     "text": [
      "\n",
      "100%|██████████████████████████████████████████████████████████████████████████████████████████████████████████| 15/15 [00:00<00:00, 1720.72it/s]\u001b[A\n"
     ]
    },
    {
     "data": {
      "application/vnd.jupyter.widget-view+json": {
       "model_id": "23406c206c594448932cd8624c43793d",
       "version_major": 2,
       "version_minor": 0
      },
      "text/plain": [
       "Generate report structure:   0%|          | 0/1 [00:00<?, ?it/s]"
      ]
     },
     "metadata": {},
     "output_type": "display_data"
    },
    {
     "data": {
      "application/vnd.jupyter.widget-view+json": {
       "model_id": "75c794f1668d4b909206e0d375a075e2",
       "version_major": 2,
       "version_minor": 0
      },
      "text/plain": [
       "Render HTML:   0%|          | 0/1 [00:00<?, ?it/s]"
      ]
     },
     "metadata": {},
     "output_type": "display_data"
    },
    {
     "data": {
      "application/vnd.jupyter.widget-view+json": {
       "model_id": "1234f4bbedfc40238a10d908c7cb9261",
       "version_major": 2,
       "version_minor": 0
      },
      "text/plain": [
       "Export report to file:   0%|          | 0/1 [00:00<?, ?it/s]"
      ]
     },
     "metadata": {},
     "output_type": "display_data"
    }
   ],
   "source": [
    "# Generate profiling report\n",
    "profile = ProfileReport(df, title=\"Data Profiling Report\", explorative=True)\n",
    "\n",
    "# Export to HTML\n",
    "output_file = \"artifacts/profiling_report.html\"\n",
    "profile.to_file(output_file=output_file)"
   ]
  },
  {
   "cell_type": "markdown",
   "id": "d7cf2cd3-50fc-4a8a-8f2d-6ef81af7af3e",
   "metadata": {},
   "source": [
    "## **General Dataset Overview**\n",
    "- **Observations**: 32,561 rows\n",
    "- **Variables**: 15 total (6 numeric, 9 categorical)\n",
    "- **Memory usage**: ~20.2 MiB\n",
    "- **Missing Values**: None (0%)\n",
    "- **Duplicate Rows**: 23 (0.1%)\n",
    "\n",
    "---\n",
    "\n",
    "## **Notable Alerts**\n",
    "- **High Correlations**:\n",
    "  - `education` ↔ `education-num`\n",
    "  - `relationship` ↔ `sex`\n",
    "- **Imbalanced Features**:\n",
    "  - `race`: 65.6% dominated by one class\n",
    "  - `native-country`: 82.5% from a single country (likely \"United-States\")\n",
    "- **Sparse Features**:\n",
    "  - `capital-gain`: 91.7% zeros\n",
    "  - `capital-loss`: 95.3% zeros\n",
    "\n",
    "---\n",
    "\n",
    "## **Skewed & Interesting Distributions**\n",
    "- **Skewness**:\n",
    "  - `capital-gain`: 11.95 (very positively skewed)\n",
    "  - `capital-loss`: 4.59 (also heavily skewed)\n",
    "  - `fnlgt`: 1.45 (moderately skewed)\n",
    "- This skew indicates strong outliers and a long right tail, especially in income-related fields.\n",
    "\n",
    "---\n",
    "\n",
    "### **Duplicates**\n",
    "Examples of repeated rows include:\n",
    "- A 25-year-old female, private workclass, with `1st-4th` education from Guatemala repeated **3 times**.\n",
    "- Several 19-year-olds with different occupations repeated **2 times** each\n",
    "\n",
    "---\n",
    "\n",
    "### **Correlations**\n",
    "- As expected:\n",
    "  - `education` and `education-num` are highly correlated (likely encoding the same info differently).\n",
    "  - Some minor correlations were observed between:\n",
    "    - `age` and `hours-per-week`\n",
    "    - `sex` and `relationship`\n",
    "\n",
    "---\n",
    "\n",
    "### **Key Takeaways**\n",
    "- The dataset is **clean** (no missing values).\n",
    "- Some fields are **heavily imbalanced** or **sparse**, which may affect modeling (e.g., logistic regression).\n",
    "- Duplicates and strong correlations should be addressed in preprocessing.\n",
    "- Outlier detection and treatment will be crucial, especially for skewed numeric features."
   ]
  },
  {
   "cell_type": "code",
   "execution_count": null,
   "id": "3804866f-88a4-40bf-9a70-0436b9d60d49",
   "metadata": {},
   "outputs": [],
   "source": []
  }
 ],
 "metadata": {
  "kernelspec": {
   "display_name": "Python 3 (ipykernel)",
   "language": "python",
   "name": "python3"
  },
  "language_info": {
   "codemirror_mode": {
    "name": "ipython",
    "version": 3
   },
   "file_extension": ".py",
   "mimetype": "text/x-python",
   "name": "python",
   "nbconvert_exporter": "python",
   "pygments_lexer": "ipython3",
   "version": "3.8.20"
  }
 },
 "nbformat": 4,
 "nbformat_minor": 5
}
