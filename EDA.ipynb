{
 "cells": [
  {
   "cell_type": "code",
   "execution_count": 3,
   "id": "1fbf2a4d-2773-4400-a9b5-8b903babcab7",
   "metadata": {},
   "outputs": [
    {
     "name": "stdout",
     "output_type": "stream",
     "text": [
      "\u001b[01;34m.\u001b[0m\n",
      "├── CODEOWNERS\n",
      "├── \u001b[01;34mcontainer\u001b[0m\n",
      "│   ├── \u001b[01;34mapp\u001b[0m\n",
      "│   │   └── main.py\n",
      "│   ├── Dockerfile\n",
      "│   └── requirements.txt\n",
      "├── \u001b[01;34mdata\u001b[0m\n",
      "│   └── census.csv\n",
      "├── EDA.ipynb\n",
      "├── LICENSE.txt\n",
      "├── main.py\n",
      "├── \u001b[01;34mmodel\u001b[0m\n",
      "├── model_card_template.md\n",
      "├── README.md\n",
      "├── requirements.txt\n",
      "├── sanitycheck.py\n",
      "├── \u001b[01;34mscreenshots\u001b[0m\n",
      "├── setup.py\n",
      "├── \u001b[01;34msrc\u001b[0m\n",
      "│   ├── __init__.py\n",
      "│   ├── \u001b[01;34mml\u001b[0m\n",
      "│   │   ├── data.py\n",
      "│   │   ├── __init__.py\n",
      "│   │   └── model.py\n",
      "│   └── train_model.py\n",
      "└── \u001b[01;34mtests\u001b[0m\n",
      "    └── README.md\n",
      "\n",
      "9 directories, 19 files\n"
     ]
    }
   ],
   "source": [
    "!tree"
   ]
  },
  {
   "cell_type": "code",
   "execution_count": null,
   "id": "840578e6-7d6d-449d-b1ed-4803825f044e",
   "metadata": {},
   "outputs": [],
   "source": []
  }
 ],
 "metadata": {
  "kernelspec": {
   "display_name": "Python 3 (ipykernel)",
   "language": "python",
   "name": "python3"
  },
  "language_info": {
   "codemirror_mode": {
    "name": "ipython",
    "version": 3
   },
   "file_extension": ".py",
   "mimetype": "text/x-python",
   "name": "python",
   "nbconvert_exporter": "python",
   "pygments_lexer": "ipython3",
   "version": "3.8.20"
  }
 },
 "nbformat": 4,
 "nbformat_minor": 5
}
